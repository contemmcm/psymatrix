{
 "cells": [
  {
   "cell_type": "markdown",
   "id": "7b81f425-ec3c-4906-a683-87836a570372",
   "metadata": {},
   "source": [
    "# PsyMatrix\n",
    "\n",
    "To load the trained PsyMatrix model used for the EMNLP24 paper, run the following code:"
   ]
  },
  {
   "cell_type": "code",
   "execution_count": null,
   "id": "207f9340-fefd-49b2-a163-8f2a015ef40a",
   "metadata": {},
   "outputs": [],
   "source": [
    "from psymatrix.psymatrix import PsyMatrix\n",
    "\n",
    "experiment = \"emnlp24\"\n",
    "hidden_size = 32\n",
    "\n",
    "psy = PsyMatrix(experiment, hidden_size)"
   ]
  },
  {
   "cell_type": "markdown",
   "id": "d71b183a-b3fd-452c-b6b5-5b5668eff9be",
   "metadata": {},
   "source": [
    "## Train the Ranking Model\n",
    "\n",
    "To improve prediction coverage by adding more pre-trained LLM models or datasets, follow these steps:\n",
    "\n",
    "Update Dataset and Model Files: \n",
    "\n",
    "- `experiments/emnlp24/datasets.txt`: Add the new dataset ID.\n",
    "- `experiments/emnlp24/models.txt`: Add the new model ID.\n",
    "\n",
    "Update Meta-Dataset Performance Files\n",
    "\n",
    "- `experiments/emnlp24/perf_loss.txt`: Record the negative log of the cross-entropy validation loss.\n",
    "- `experiments/emnlp24/perf_loss_norm.txt`: Record normalized performance, where the lowest score is 0.0 and the highest is 1.0 (dataset wise).\n",
    "\n",
    "Use `characterize.sh` to generate characterization for new datasets.\n",
    "\n",
    "After updating these files, execute the code below to retrain the ranking model with the new data."
   ]
  },
  {
   "cell_type": "code",
   "execution_count": null,
   "id": "47f92db5-bb8d-462e-8671-810508411dbe",
   "metadata": {},
   "outputs": [],
   "source": [
    "import matplotlib.pyplot as plt\n",
    "\n",
    "num_models = 25  # If you added more models, add them here as well\n",
    "x_axis = list(range(1,num_models))\n",
    "\n",
    "psy_auc, psy_topk_vec_mean, psy_topk_vec_std = psy.train_ranking_model(\n",
    "    num_features=625,\n",
    "    num_latent_features=2,\n",
    "    metric=\"loss\",\n",
    "    k_folds=10,\n",
    "    num_repeats=1,\n",
    "    hidden_size=32,\n",
    ")\n",
    "\n",
    "print(f\"PsyMatrix AUC (norm): {psy_auc}\")\n",
    "\n",
    "plt.plot(x, psy_topk_vec_mean, marker='o', linestyle='-', color='b', label='PsyMatrix')\n",
    "plt.fill_between(x, psy_topk_vec_mean - psy_topk_vec_std, psy_topk_vec_mean + psy_topk_vec_std, color=\"blue\", alpha=0.2)\n",
    "plt.legend()\n",
    "plt.show()"
   ]
  },
  {
   "cell_type": "markdown",
   "id": "cf0c116a-fbaa-4f24-a6a5-b8f1f585b05b",
   "metadata": {},
   "source": [
    "## Model Ranking for Optimal Selection\n",
    "\n",
    "Evaluate the model ranking performance and compare the PsyMatrix model against baseline methods (Naive and Random) in selecting optimal models."
   ]
  },
  {
   "cell_type": "code",
   "execution_count": null,
   "id": "4ed8cd63-53c0-49b0-a1b5-197b84c85ad6",
   "metadata": {},
   "outputs": [],
   "source": [
    "import matplotlib.pyplot as plt\n",
    "\n",
    "from scripts.eval_nnet import eval\n",
    "\n",
    "num_models = 25\n",
    "x_axis = list(range(1, num_models))\n",
    "\n",
    "psy_prob, naive_prob = eval(experiment, \"probability\")\n",
    "rnd_prob = [x/len(x_axis) for x in x_axis]\n",
    "\n",
    "plt.xlabel(\"Top-K\")\n",
    "plt.ylabel(\"Optimal Selection Rate\")\n",
    "plt.plot(x_axis, psy_prob, marker='o', linestyle='-', color='b', label='PsyMatrix')\n",
    "plt.plot(x_axis, naive_prob, marker='o', linestyle='-', color='r', label='Naive')\n",
    "plt.plot(x_axis, rnd_prob, marker='', linestyle='--', color='k', label='Random')\n",
    "plt.legend(loc=\"lower right\")\n",
    "plt.grid()\n",
    "plt.show()\n"
   ]
  },
  {
   "cell_type": "markdown",
   "id": "d8d1c411-a59a-4f8f-bd88-8ac39386058e",
   "metadata": {},
   "source": [
    "## Model Ranking for Near-Optimal Selection\n"
   ]
  },
  {
   "cell_type": "code",
   "execution_count": null,
   "id": "9507798c-c64d-4095-a9b0-aac9ab0cc65c",
   "metadata": {},
   "outputs": [],
   "source": [
    "import matplotlib.pyplot as plt\n",
    "\n",
    "from scripts.eval_nnet import eval, eval_perf_random\n",
    "\n",
    "num_models = 25\n",
    "x_axis = list(range(1, num_models))\n",
    "\n",
    "psy_prob, naive_prob = eval(experiment, \"performance\")\n",
    "rnd_prob = eval_perf_random(experiment)\n",
    "\n",
    "plt.xlabel(\"Top-K\")\n",
    "plt.ylabel(\"Validation Performance of Best Model\")\n",
    "plt.plot(x_axis, psy_prob, marker='o', linestyle='-', color='b', label='PsyMatrix')\n",
    "plt.plot(x_axis, naive_prob, marker='o', linestyle='-', color='r', label='Naive')\n",
    "plt.plot(x_axis, rnd_prob, marker='', linestyle='--', color='k', label='Random')\n",
    "plt.legend(loc=\"lower right\")\n",
    "plt.grid()\n",
    "plt.show()"
   ]
  }
 ],
 "metadata": {
  "kernelspec": {
   "display_name": "Python 3 (ipykernel)",
   "language": "python",
   "name": "python3"
  },
  "language_info": {
   "codemirror_mode": {
    "name": "ipython",
    "version": 3
   },
   "file_extension": ".py",
   "mimetype": "text/x-python",
   "name": "python",
   "nbconvert_exporter": "python",
   "pygments_lexer": "ipython3",
   "version": "3.9.19"
  }
 },
 "nbformat": 4,
 "nbformat_minor": 5
}
